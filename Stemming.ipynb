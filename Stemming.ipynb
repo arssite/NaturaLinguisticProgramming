{
  "nbformat": 4,
  "nbformat_minor": 0,
  "metadata": {
    "colab": {
      "provenance": [],
      "authorship_tag": "ABX9TyOnsVvgJjck9yvmS1GQ4Vt0",
      "include_colab_link": true
    },
    "kernelspec": {
      "name": "python3",
      "display_name": "Python 3"
    },
    "language_info": {
      "name": "python"
    }
  },
  "cells": [
    {
      "cell_type": "markdown",
      "metadata": {
        "id": "view-in-github",
        "colab_type": "text"
      },
      "source": [
        "<a href=\"https://colab.research.google.com/github/arssite/NaturaLinguisticProgramming/blob/main/Stemming.ipynb\" target=\"_parent\"><img src=\"https://colab.research.google.com/assets/colab-badge.svg\" alt=\"Open In Colab\"/></a>"
      ]
    },
    {
      "cell_type": "code",
      "execution_count": null,
      "metadata": {
        "id": "Q_SskZGmsJLT"
      },
      "outputs": [],
      "source": [
        "words = [\"fishing\", \"fished\", \"fish\", \"fishes\", \"flea\", \"fleas\", \"flight\", \"flights\", \"flinch\", \"flinched\", \"flinches\", \"fling\", \"flings\", \"flip\", \"flipped\", \"flips\", \"flirt\", \"flirted\", \"flirts\", \"flood\", \"flooded\", \"floods\", \"floor\", \"floors\", \"flop\", \"flopped\", \"flops\", \"flu\", \"stubbornness\", \"strength\", \"stubborn\", \"strong\", \"student\", \"students\", \"studio\", \"studios\", \"study\", \"studied\", \"studies\", \"stuff\", \"stuffed\", \"stuffs\", \"stupid\", \"stupidity\", \"style\", \"styles\", \"stylish\", \"sub\", \"subs\", \"subway\", \"subways\", \"such\", \"suck\", \"sucked\", \"sucks\", \"sudden\", \"suddenly\", \"sue\", \"sued\", \"sues\", \"suffer\", \"suffered\", \"suffers\", \"sugar\", \"suggest\", \"suggested\", \"suggests\", \"suicide\", \"suit\", \"suited\", \"suits\", \"summer\", \"sun\", \"sunday\", \"sundays\", \"sunlight\", \"sunny\", \"super\", \"superb\", \"superbly\", \"superior\", \"supervisor\", \"supervisors\", \"supper\", \"supple\", \"supplier\", \"suppliers\", \"supply\", \"supplied\", \"supplies\", \"support\", \"supported\", \"supporter\", \"supporters\", \"supports\", \"suppose\", \"supposed\", \"sure\", \"surely\", \"surface\", \"surfaces\", \"surf\", \"surfed\", \"surfer\", \"surfers\", \"surfing\", \"surfs\", \"surgery\", \"surgeries\", \"surprise\", \"surprised\", \"surprises\", \"surprising\", \"surprisingly\", \"surround\", \"surrounded\", \"surrounds\", \"survival\", \"survive\", \"survived\", \"survives\", \"survivor\", \"survivors\", \"suspect\", \"suspected\", \"suspects\", \"suspend\", \"suspended\", \"suspends\", \"suspense\", \"suspicious\", \"swallow\", \"swallowed\", \"swallows\", \"swamp\", \"swamps\", \"swan\", \"swans\", \"swear\", \"swearing\", \"swears\", \"sweat\", \"sweater\", \"sweaters\", \"sweating\", \"sweats\", \"sweep\", \"sweeping\", \"sweeps\", \"sweet\", \"sweeten\", \"sweetened\", \"sweetens\", \"sweeter\", \"sweetest\", \"sweetheart\", \"sweethearts\", \"swell\", \"swelled\", \"swells\", \"swept\", \"swift\", \"swim\", \"swimming\", \"swims\", \"swing\", \"swinging\", \"swings\", \"swipe\", \"swiped\", \"swipes\", \"swirl\", \"swirled\", \"swirls\", \"switch\", \"switched\", \"switches\", \"swivel\", \"swiveled\", \"swivels\", \"swollen\", \"swore\", \"sword\", \"swords\", \"swore\", \"sworn\", \"symbol\", \"symbols\", \"sympathy\", \"symptom\", \"symptoms\"]\n"
      ]
    },
    {
      "cell_type": "code",
      "source": [
        "from nltk.stem import PorterStemmer"
      ],
      "metadata": {
        "id": "ydGxJVEfsl1C"
      },
      "execution_count": null,
      "outputs": []
    },
    {
      "cell_type": "code",
      "source": [
        "stemming= PorterStemmer()"
      ],
      "metadata": {
        "id": "cCs1lAC2sp4w"
      },
      "execution_count": null,
      "outputs": []
    },
    {
      "cell_type": "code",
      "source": [
        "for i in words:\n",
        "  print(i+\" ------------> \"+stemming.stem(i))"
      ],
      "metadata": {
        "colab": {
          "base_uri": "https://localhost:8080/"
        },
        "id": "sa_s7wGytG-P",
        "outputId": "8f02a940-86ca-4a1f-ff25-7e94c2775768"
      },
      "execution_count": null,
      "outputs": [
        {
          "output_type": "stream",
          "name": "stdout",
          "text": [
            "fishing ------------> fish\n",
            "fished ------------> fish\n",
            "fish ------------> fish\n",
            "fishes ------------> fish\n",
            "flea ------------> flea\n",
            "fleas ------------> flea\n",
            "flight ------------> flight\n",
            "flights ------------> flight\n",
            "flinch ------------> flinch\n",
            "flinched ------------> flinch\n",
            "flinches ------------> flinch\n",
            "fling ------------> fling\n",
            "flings ------------> fling\n",
            "flip ------------> flip\n",
            "flipped ------------> flip\n",
            "flips ------------> flip\n",
            "flirt ------------> flirt\n",
            "flirted ------------> flirt\n",
            "flirts ------------> flirt\n",
            "flood ------------> flood\n",
            "flooded ------------> flood\n",
            "floods ------------> flood\n",
            "floor ------------> floor\n",
            "floors ------------> floor\n",
            "flop ------------> flop\n",
            "flopped ------------> flop\n",
            "flops ------------> flop\n",
            "flu ------------> flu\n",
            "stubbornness ------------> stubborn\n",
            "strength ------------> strength\n",
            "stubborn ------------> stubborn\n",
            "strong ------------> strong\n",
            "student ------------> student\n",
            "students ------------> student\n",
            "studio ------------> studio\n",
            "studios ------------> studio\n",
            "study ------------> studi\n",
            "studied ------------> studi\n",
            "studies ------------> studi\n",
            "stuff ------------> stuff\n",
            "stuffed ------------> stuf\n",
            "stuffs ------------> stuff\n",
            "stupid ------------> stupid\n",
            "stupidity ------------> stupid\n",
            "style ------------> style\n",
            "styles ------------> style\n",
            "stylish ------------> stylish\n",
            "sub ------------> sub\n",
            "subs ------------> sub\n",
            "subway ------------> subway\n",
            "subways ------------> subway\n",
            "such ------------> such\n",
            "suck ------------> suck\n",
            "sucked ------------> suck\n",
            "sucks ------------> suck\n",
            "sudden ------------> sudden\n",
            "suddenly ------------> suddenli\n",
            "sue ------------> sue\n",
            "sued ------------> su\n",
            "sues ------------> sue\n",
            "suffer ------------> suffer\n",
            "suffered ------------> suffer\n",
            "suffers ------------> suffer\n",
            "sugar ------------> sugar\n",
            "suggest ------------> suggest\n",
            "suggested ------------> suggest\n",
            "suggests ------------> suggest\n",
            "suicide ------------> suicid\n",
            "suit ------------> suit\n",
            "suited ------------> suit\n",
            "suits ------------> suit\n",
            "summer ------------> summer\n",
            "sun ------------> sun\n",
            "sunday ------------> sunday\n",
            "sundays ------------> sunday\n",
            "sunlight ------------> sunlight\n",
            "sunny ------------> sunni\n",
            "super ------------> super\n",
            "superb ------------> superb\n",
            "superbly ------------> superbl\n",
            "superior ------------> superior\n",
            "supervisor ------------> supervisor\n",
            "supervisors ------------> supervisor\n",
            "supper ------------> supper\n",
            "supple ------------> suppl\n",
            "supplier ------------> supplier\n",
            "suppliers ------------> supplier\n",
            "supply ------------> suppli\n",
            "supplied ------------> suppli\n",
            "supplies ------------> suppli\n",
            "support ------------> support\n",
            "supported ------------> support\n",
            "supporter ------------> support\n",
            "supporters ------------> support\n",
            "supports ------------> support\n",
            "suppose ------------> suppos\n",
            "supposed ------------> suppos\n",
            "sure ------------> sure\n",
            "surely ------------> sure\n",
            "surface ------------> surfac\n",
            "surfaces ------------> surfac\n",
            "surf ------------> surf\n",
            "surfed ------------> surf\n",
            "surfer ------------> surfer\n",
            "surfers ------------> surfer\n",
            "surfing ------------> surf\n",
            "surfs ------------> surf\n",
            "surgery ------------> surgeri\n",
            "surgeries ------------> surgeri\n",
            "surprise ------------> surpris\n",
            "surprised ------------> surpris\n",
            "surprises ------------> surpris\n",
            "surprising ------------> surpris\n",
            "surprisingly ------------> surprisingli\n",
            "surround ------------> surround\n",
            "surrounded ------------> surround\n",
            "surrounds ------------> surround\n",
            "survival ------------> surviv\n",
            "survive ------------> surviv\n",
            "survived ------------> surviv\n",
            "survives ------------> surviv\n",
            "survivor ------------> survivor\n",
            "survivors ------------> survivor\n",
            "suspect ------------> suspect\n",
            "suspected ------------> suspect\n",
            "suspects ------------> suspect\n",
            "suspend ------------> suspend\n",
            "suspended ------------> suspend\n",
            "suspends ------------> suspend\n",
            "suspense ------------> suspens\n",
            "suspicious ------------> suspici\n",
            "swallow ------------> swallow\n",
            "swallowed ------------> swallow\n",
            "swallows ------------> swallow\n",
            "swamp ------------> swamp\n",
            "swamps ------------> swamp\n",
            "swan ------------> swan\n",
            "swans ------------> swan\n",
            "swear ------------> swear\n",
            "swearing ------------> swear\n",
            "swears ------------> swear\n",
            "sweat ------------> sweat\n",
            "sweater ------------> sweater\n",
            "sweaters ------------> sweater\n",
            "sweating ------------> sweat\n",
            "sweats ------------> sweat\n",
            "sweep ------------> sweep\n",
            "sweeping ------------> sweep\n",
            "sweeps ------------> sweep\n",
            "sweet ------------> sweet\n",
            "sweeten ------------> sweeten\n",
            "sweetened ------------> sweeten\n",
            "sweetens ------------> sweeten\n",
            "sweeter ------------> sweeter\n",
            "sweetest ------------> sweetest\n",
            "sweetheart ------------> sweetheart\n",
            "sweethearts ------------> sweetheart\n",
            "swell ------------> swell\n",
            "swelled ------------> swell\n",
            "swells ------------> swell\n",
            "swept ------------> swept\n",
            "swift ------------> swift\n",
            "swim ------------> swim\n",
            "swimming ------------> swim\n",
            "swims ------------> swim\n",
            "swing ------------> swing\n",
            "swinging ------------> swing\n",
            "swings ------------> swing\n",
            "swipe ------------> swipe\n",
            "swiped ------------> swipe\n",
            "swipes ------------> swipe\n",
            "swirl ------------> swirl\n",
            "swirled ------------> swirl\n",
            "swirls ------------> swirl\n",
            "switch ------------> switch\n",
            "switched ------------> switch\n",
            "switches ------------> switch\n",
            "swivel ------------> swivel\n",
            "swiveled ------------> swivel\n",
            "swivels ------------> swivel\n",
            "swollen ------------> swollen\n",
            "swore ------------> swore\n",
            "sword ------------> sword\n",
            "swords ------------> sword\n",
            "swore ------------> swore\n",
            "sworn ------------> sworn\n",
            "symbol ------------> symbol\n",
            "symbols ------------> symbol\n",
            "sympathy ------------> sympathi\n",
            "symptom ------------> symptom\n",
            "symptoms ------------> symptom\n"
          ]
        }
      ]
    },
    {
      "cell_type": "markdown",
      "source": [
        "Disadvantages of using stemming:\n",
        "\n",
        "Loss of information: Stemming can remove important information from the word, which can affect the accuracy of tasks such as information retrieval and text classification.\n",
        "Increased ambiguity: Stemming can map multiple words to the same stem, which can introduce ambiguity into the text. For example, the words \"fishing\", \"fished\", and \"fisher\" would all be stemmed to \"fish\".\n",
        "Reduced readability: Stemmed text can be more difficult to read and understand, especially for humans.\n",
        "Not always effective: Stemming algorithms are not always accurate, and they can sometimes produce incorrect stems.\n",
        "Language-dependent: Stemming algorithms are typically designed for specific languages, and they may not work well for other languages.\n"
      ],
      "metadata": {
        "id": "pxzG1--juJ38"
      }
    },
    {
      "cell_type": "code",
      "source": [
        "stemming.stem(\"arssite\") #stemming.stem(\"congratulations\")"
      ],
      "metadata": {
        "colab": {
          "base_uri": "https://localhost:8080/",
          "height": 35
        },
        "id": "5ZlazXWXuPJL",
        "outputId": "67d924ec-1768-466f-c34a-169f79992087"
      },
      "execution_count": null,
      "outputs": [
        {
          "output_type": "execute_result",
          "data": {
            "text/plain": [
              "'arssit'"
            ],
            "application/vnd.google.colaboratory.intrinsic+json": {
              "type": "string"
            }
          },
          "metadata": {},
          "execution_count": 8
        }
      ]
    },
    {
      "cell_type": "markdown",
      "source": [
        "# REGexSTEMMER"
      ],
      "metadata": {
        "id": "qUTcup10vrQG"
      }
    },
    {
      "cell_type": "code",
      "source": [
        "from nltk.stem import RegexpStemmer"
      ],
      "metadata": {
        "id": "0Z-A0tvSuVNC"
      },
      "execution_count": null,
      "outputs": []
    },
    {
      "cell_type": "code",
      "source": [
        "regstem= RegexpStemmer('ing$|site$|s$')\n",
        "regstem.stem(\"arssite\")"
      ],
      "metadata": {
        "colab": {
          "base_uri": "https://localhost:8080/",
          "height": 35
        },
        "id": "2HWFtOmovxUh",
        "outputId": "bbbe6761-2f4f-471e-bc89-b45dd95044b6"
      },
      "execution_count": null,
      "outputs": [
        {
          "output_type": "execute_result",
          "data": {
            "text/plain": [
              "'ars'"
            ],
            "application/vnd.google.colaboratory.intrinsic+json": {
              "type": "string"
            }
          },
          "metadata": {},
          "execution_count": 12
        }
      ]
    },
    {
      "cell_type": "code",
      "source": [
        "for i in words:\n",
        "  print(i+\"--------->\"+regstem.stem(i))"
      ],
      "metadata": {
        "colab": {
          "base_uri": "https://localhost:8080/"
        },
        "id": "g__CrOHFwGXu",
        "outputId": "a7e7be66-4007-454c-cf72-39b8b3f77fd5"
      },
      "execution_count": null,
      "outputs": [
        {
          "output_type": "stream",
          "name": "stdout",
          "text": [
            "fishing--------->fish\n",
            "fished--------->fished\n",
            "fish--------->fish\n",
            "fishes--------->fishe\n",
            "flea--------->flea\n",
            "fleas--------->flea\n",
            "flight--------->flight\n",
            "flights--------->flight\n",
            "flinch--------->flinch\n",
            "flinched--------->flinched\n",
            "flinches--------->flinche\n",
            "fling--------->fl\n",
            "flings--------->fling\n",
            "flip--------->flip\n",
            "flipped--------->flipped\n",
            "flips--------->flip\n",
            "flirt--------->flirt\n",
            "flirted--------->flirted\n",
            "flirts--------->flirt\n",
            "flood--------->flood\n",
            "flooded--------->flooded\n",
            "floods--------->flood\n",
            "floor--------->floor\n",
            "floors--------->floor\n",
            "flop--------->flop\n",
            "flopped--------->flopped\n",
            "flops--------->flop\n",
            "flu--------->flu\n",
            "stubbornness--------->stubbornnes\n",
            "strength--------->strength\n",
            "stubborn--------->stubborn\n",
            "strong--------->strong\n",
            "student--------->student\n",
            "students--------->student\n",
            "studio--------->studio\n",
            "studios--------->studio\n",
            "study--------->study\n",
            "studied--------->studied\n",
            "studies--------->studie\n",
            "stuff--------->stuff\n",
            "stuffed--------->stuffed\n",
            "stuffs--------->stuff\n",
            "stupid--------->stupid\n",
            "stupidity--------->stupidity\n",
            "style--------->style\n",
            "styles--------->style\n",
            "stylish--------->stylish\n",
            "sub--------->sub\n",
            "subs--------->sub\n",
            "subway--------->subway\n",
            "subways--------->subway\n",
            "such--------->such\n",
            "suck--------->suck\n",
            "sucked--------->sucked\n",
            "sucks--------->suck\n",
            "sudden--------->sudden\n",
            "suddenly--------->suddenly\n",
            "sue--------->sue\n",
            "sued--------->sued\n",
            "sues--------->sue\n",
            "suffer--------->suffer\n",
            "suffered--------->suffered\n",
            "suffers--------->suffer\n",
            "sugar--------->sugar\n",
            "suggest--------->suggest\n",
            "suggested--------->suggested\n",
            "suggests--------->suggest\n",
            "suicide--------->suicide\n",
            "suit--------->suit\n",
            "suited--------->suited\n",
            "suits--------->suit\n",
            "summer--------->summer\n",
            "sun--------->sun\n",
            "sunday--------->sunday\n",
            "sundays--------->sunday\n",
            "sunlight--------->sunlight\n",
            "sunny--------->sunny\n",
            "super--------->super\n",
            "superb--------->superb\n",
            "superbly--------->superbly\n",
            "superior--------->superior\n",
            "supervisor--------->supervisor\n",
            "supervisors--------->supervisor\n",
            "supper--------->supper\n",
            "supple--------->supple\n",
            "supplier--------->supplier\n",
            "suppliers--------->supplier\n",
            "supply--------->supply\n",
            "supplied--------->supplied\n",
            "supplies--------->supplie\n",
            "support--------->support\n",
            "supported--------->supported\n",
            "supporter--------->supporter\n",
            "supporters--------->supporter\n",
            "supports--------->support\n",
            "suppose--------->suppose\n",
            "supposed--------->supposed\n",
            "sure--------->sure\n",
            "surely--------->surely\n",
            "surface--------->surface\n",
            "surfaces--------->surface\n",
            "surf--------->surf\n",
            "surfed--------->surfed\n",
            "surfer--------->surfer\n",
            "surfers--------->surfer\n",
            "surfing--------->surf\n",
            "surfs--------->surf\n",
            "surgery--------->surgery\n",
            "surgeries--------->surgerie\n",
            "surprise--------->surprise\n",
            "surprised--------->surprised\n",
            "surprises--------->surprise\n",
            "surprising--------->surpris\n",
            "surprisingly--------->surprisingly\n",
            "surround--------->surround\n",
            "surrounded--------->surrounded\n",
            "surrounds--------->surround\n",
            "survival--------->survival\n",
            "survive--------->survive\n",
            "survived--------->survived\n",
            "survives--------->survive\n",
            "survivor--------->survivor\n",
            "survivors--------->survivor\n",
            "suspect--------->suspect\n",
            "suspected--------->suspected\n",
            "suspects--------->suspect\n",
            "suspend--------->suspend\n",
            "suspended--------->suspended\n",
            "suspends--------->suspend\n",
            "suspense--------->suspense\n",
            "suspicious--------->suspiciou\n",
            "swallow--------->swallow\n",
            "swallowed--------->swallowed\n",
            "swallows--------->swallow\n",
            "swamp--------->swamp\n",
            "swamps--------->swamp\n",
            "swan--------->swan\n",
            "swans--------->swan\n",
            "swear--------->swear\n",
            "swearing--------->swear\n",
            "swears--------->swear\n",
            "sweat--------->sweat\n",
            "sweater--------->sweater\n",
            "sweaters--------->sweater\n",
            "sweating--------->sweat\n",
            "sweats--------->sweat\n",
            "sweep--------->sweep\n",
            "sweeping--------->sweep\n",
            "sweeps--------->sweep\n",
            "sweet--------->sweet\n",
            "sweeten--------->sweeten\n",
            "sweetened--------->sweetened\n",
            "sweetens--------->sweeten\n",
            "sweeter--------->sweeter\n",
            "sweetest--------->sweetest\n",
            "sweetheart--------->sweetheart\n",
            "sweethearts--------->sweetheart\n",
            "swell--------->swell\n",
            "swelled--------->swelled\n",
            "swells--------->swell\n",
            "swept--------->swept\n",
            "swift--------->swift\n",
            "swim--------->swim\n",
            "swimming--------->swimm\n",
            "swims--------->swim\n",
            "swing--------->sw\n",
            "swinging--------->swing\n",
            "swings--------->swing\n",
            "swipe--------->swipe\n",
            "swiped--------->swiped\n",
            "swipes--------->swipe\n",
            "swirl--------->swirl\n",
            "swirled--------->swirled\n",
            "swirls--------->swirl\n",
            "switch--------->switch\n",
            "switched--------->switched\n",
            "switches--------->switche\n",
            "swivel--------->swivel\n",
            "swiveled--------->swiveled\n",
            "swivels--------->swivel\n",
            "swollen--------->swollen\n",
            "swore--------->swore\n",
            "sword--------->sword\n",
            "swords--------->sword\n",
            "swore--------->swore\n",
            "sworn--------->sworn\n",
            "symbol--------->symbol\n",
            "symbols--------->symbol\n",
            "sympathy--------->sympathy\n",
            "symptom--------->symptom\n",
            "symptoms--------->symptom\n"
          ]
        }
      ]
    },
    {
      "cell_type": "markdown",
      "source": [
        "# SnowBallStemmer"
      ],
      "metadata": {
        "id": "ooZ6H56zwmdH"
      }
    },
    {
      "cell_type": "code",
      "source": [
        "from nltk.stem import SnowballStemmer"
      ],
      "metadata": {
        "id": "yfmFOMdRwiH5"
      },
      "execution_count": null,
      "outputs": []
    },
    {
      "cell_type": "code",
      "source": [
        "snowstem=SnowballStemmer(\"english\")"
      ],
      "metadata": {
        "id": "PrQCKAdkwsyb"
      },
      "execution_count": null,
      "outputs": []
    },
    {
      "cell_type": "code",
      "source": [
        "for i in words:\n",
        "  print(i+\"--------->\"+snowstem.stem(i))\n"
      ],
      "metadata": {
        "colab": {
          "base_uri": "https://localhost:8080/"
        },
        "id": "4p_iv4ejwwtl",
        "outputId": "b53cce76-7ecc-4366-ed13-831b3ef54783"
      },
      "execution_count": null,
      "outputs": [
        {
          "output_type": "stream",
          "name": "stdout",
          "text": [
            "fishing--------->fish\n",
            "fished--------->fish\n",
            "fish--------->fish\n",
            "fishes--------->fish\n",
            "flea--------->flea\n",
            "fleas--------->flea\n",
            "flight--------->flight\n",
            "flights--------->flight\n",
            "flinch--------->flinch\n",
            "flinched--------->flinch\n",
            "flinches--------->flinch\n",
            "fling--------->fling\n",
            "flings--------->fling\n",
            "flip--------->flip\n",
            "flipped--------->flip\n",
            "flips--------->flip\n",
            "flirt--------->flirt\n",
            "flirted--------->flirt\n",
            "flirts--------->flirt\n",
            "flood--------->flood\n",
            "flooded--------->flood\n",
            "floods--------->flood\n",
            "floor--------->floor\n",
            "floors--------->floor\n",
            "flop--------->flop\n",
            "flopped--------->flop\n",
            "flops--------->flop\n",
            "flu--------->flu\n",
            "stubbornness--------->stubborn\n",
            "strength--------->strength\n",
            "stubborn--------->stubborn\n",
            "strong--------->strong\n",
            "student--------->student\n",
            "students--------->student\n",
            "studio--------->studio\n",
            "studios--------->studio\n",
            "study--------->studi\n",
            "studied--------->studi\n",
            "studies--------->studi\n",
            "stuff--------->stuff\n",
            "stuffed--------->stuf\n",
            "stuffs--------->stuff\n",
            "stupid--------->stupid\n",
            "stupidity--------->stupid\n",
            "style--------->style\n",
            "styles--------->style\n",
            "stylish--------->stylish\n",
            "sub--------->sub\n",
            "subs--------->sub\n",
            "subway--------->subway\n",
            "subways--------->subway\n",
            "such--------->such\n",
            "suck--------->suck\n",
            "sucked--------->suck\n",
            "sucks--------->suck\n",
            "sudden--------->sudden\n",
            "suddenly--------->sudden\n",
            "sue--------->sue\n",
            "sued--------->su\n",
            "sues--------->sue\n",
            "suffer--------->suffer\n",
            "suffered--------->suffer\n",
            "suffers--------->suffer\n",
            "sugar--------->sugar\n",
            "suggest--------->suggest\n",
            "suggested--------->suggest\n",
            "suggests--------->suggest\n",
            "suicide--------->suicid\n",
            "suit--------->suit\n",
            "suited--------->suit\n",
            "suits--------->suit\n",
            "summer--------->summer\n",
            "sun--------->sun\n",
            "sunday--------->sunday\n",
            "sundays--------->sunday\n",
            "sunlight--------->sunlight\n",
            "sunny--------->sunni\n",
            "super--------->super\n",
            "superb--------->superb\n",
            "superbly--------->superbl\n",
            "superior--------->superior\n",
            "supervisor--------->supervisor\n",
            "supervisors--------->supervisor\n",
            "supper--------->supper\n",
            "supple--------->suppl\n",
            "supplier--------->supplier\n",
            "suppliers--------->supplier\n",
            "supply--------->suppli\n",
            "supplied--------->suppli\n",
            "supplies--------->suppli\n",
            "support--------->support\n",
            "supported--------->support\n",
            "supporter--------->support\n",
            "supporters--------->support\n",
            "supports--------->support\n",
            "suppose--------->suppos\n",
            "supposed--------->suppos\n",
            "sure--------->sure\n",
            "surely--------->sure\n",
            "surface--------->surfac\n",
            "surfaces--------->surfac\n",
            "surf--------->surf\n",
            "surfed--------->surf\n",
            "surfer--------->surfer\n",
            "surfers--------->surfer\n",
            "surfing--------->surf\n",
            "surfs--------->surf\n",
            "surgery--------->surgeri\n",
            "surgeries--------->surgeri\n",
            "surprise--------->surpris\n",
            "surprised--------->surpris\n",
            "surprises--------->surpris\n",
            "surprising--------->surpris\n",
            "surprisingly--------->surpris\n",
            "surround--------->surround\n",
            "surrounded--------->surround\n",
            "surrounds--------->surround\n",
            "survival--------->surviv\n",
            "survive--------->surviv\n",
            "survived--------->surviv\n",
            "survives--------->surviv\n",
            "survivor--------->survivor\n",
            "survivors--------->survivor\n",
            "suspect--------->suspect\n",
            "suspected--------->suspect\n",
            "suspects--------->suspect\n",
            "suspend--------->suspend\n",
            "suspended--------->suspend\n",
            "suspends--------->suspend\n",
            "suspense--------->suspens\n",
            "suspicious--------->suspici\n",
            "swallow--------->swallow\n",
            "swallowed--------->swallow\n",
            "swallows--------->swallow\n",
            "swamp--------->swamp\n",
            "swamps--------->swamp\n",
            "swan--------->swan\n",
            "swans--------->swan\n",
            "swear--------->swear\n",
            "swearing--------->swear\n",
            "swears--------->swear\n",
            "sweat--------->sweat\n",
            "sweater--------->sweater\n",
            "sweaters--------->sweater\n",
            "sweating--------->sweat\n",
            "sweats--------->sweat\n",
            "sweep--------->sweep\n",
            "sweeping--------->sweep\n",
            "sweeps--------->sweep\n",
            "sweet--------->sweet\n",
            "sweeten--------->sweeten\n",
            "sweetened--------->sweeten\n",
            "sweetens--------->sweeten\n",
            "sweeter--------->sweeter\n",
            "sweetest--------->sweetest\n",
            "sweetheart--------->sweetheart\n",
            "sweethearts--------->sweetheart\n",
            "swell--------->swell\n",
            "swelled--------->swell\n",
            "swells--------->swell\n",
            "swept--------->swept\n",
            "swift--------->swift\n",
            "swim--------->swim\n",
            "swimming--------->swim\n",
            "swims--------->swim\n",
            "swing--------->swing\n",
            "swinging--------->swing\n",
            "swings--------->swing\n",
            "swipe--------->swipe\n",
            "swiped--------->swipe\n",
            "swipes--------->swipe\n",
            "swirl--------->swirl\n",
            "swirled--------->swirl\n",
            "swirls--------->swirl\n",
            "switch--------->switch\n",
            "switched--------->switch\n",
            "switches--------->switch\n",
            "swivel--------->swivel\n",
            "swiveled--------->swivel\n",
            "swivels--------->swivel\n",
            "swollen--------->swollen\n",
            "swore--------->swore\n",
            "sword--------->sword\n",
            "swords--------->sword\n",
            "swore--------->swore\n",
            "sworn--------->sworn\n",
            "symbol--------->symbol\n",
            "symbols--------->symbol\n",
            "sympathy--------->sympathi\n",
            "symptom--------->symptom\n",
            "symptoms--------->symptom\n"
          ]
        }
      ]
    },
    {
      "cell_type": "code",
      "source": [
        "snowstem.stem(\"arssite\")"
      ],
      "metadata": {
        "colab": {
          "base_uri": "https://localhost:8080/",
          "height": 35
        },
        "id": "wyCodUuvwz_4",
        "outputId": "7e901fa8-208b-47ba-f2a5-20f65a7a6cba"
      },
      "execution_count": null,
      "outputs": [
        {
          "output_type": "execute_result",
          "data": {
            "text/plain": [
              "'arssit'"
            ],
            "application/vnd.google.colaboratory.intrinsic+json": {
              "type": "string"
            }
          },
          "metadata": {},
          "execution_count": 17
        }
      ]
    },
    {
      "cell_type": "code",
      "source": [
        "snowstem.stem(\"congratulations\")"
      ],
      "metadata": {
        "colab": {
          "base_uri": "https://localhost:8080/",
          "height": 35
        },
        "id": "VDWYoiKGw36U",
        "outputId": "21aebfbe-02f5-4f1f-fafb-9d652cb4b1b4"
      },
      "execution_count": null,
      "outputs": [
        {
          "output_type": "execute_result",
          "data": {
            "text/plain": [
              "'congratul'"
            ],
            "application/vnd.google.colaboratory.intrinsic+json": {
              "type": "string"
            }
          },
          "metadata": {},
          "execution_count": 18
        }
      ]
    },
    {
      "cell_type": "markdown",
      "source": [
        "Porter Stemming:\n",
        "\n",
        "Developed by Martin Porter in 1980.\n",
        "One of the oldest and most widely used stemming algorithms.\n",
        "Removes suffixes from words to obtain their root form.\n",
        "Simple and efficient, making it suitable for large datasets.\n",
        "Examples:\n",
        "\"jumping\" -> \"jump\"\n",
        "\"fishing\" -> \"fish\"\n",
        "\"playing\" -> \"play\"\n",
        "\n",
        "_____________\n",
        "\n",
        "Snowball Stemming:\n",
        "\n",
        "Developed as an improvement over Porter stemming.\n",
        "More aggressive than Porter stemming, removing more suffixes and producing shorter stems.\n",
        "Supports a wider range of languages.\n",
        "Examples:\n",
        "\"jumping\" -> \"jump\"\n",
        "\"fishing\" -> \"fish\"\n",
        "\"playing\" -> \"play\"\n",
        "\"trouble\" -> \"troubl\"\n",
        "\n",
        "___________\n",
        "\n",
        "\n",
        "RegexStemming:\n",
        "\n",
        "Uses regular expressions to remove suffixes from words.\n",
        "Offers more flexibility and control over the stemming process compared to Porter and Snowball stemming.\n",
        "Requires careful crafting of regular expressions to achieve desired results.\n",
        "Examples:\n",
        "\"jumping\" -> \"jump\"\n",
        "\"fishing\" -> \"fish\"\n",
        "\"playing\" -> \"play\"\n",
        "\"trouble\" -> \"troubl\"\n",
        "\n",
        "\n",
        "\n",
        "\n",
        "____________\n",
        "\n",
        "\n",
        "\n",
        "Key Differences:\n",
        "\n",
        "Algorithm: Porter stemming uses a set of rules, while Snowball stemming uses a more complex algorithm with exceptions and language-specific rules.\n",
        "RegexStemming relies on regular expressions.\n",
        "\n",
        "Aggressiveness: Snowball stemming is more aggressive than Porter stemming, while RegexStemming allows for customized aggressiveness based on the defined regular expressions.\n",
        "\n",
        "\n",
        "Flexibility: RegexStemming offers the most flexibility in terms of customization and control over the stemming process.\n",
        "\n",
        "Language Support: Snowball stemming supports a wider range of languages out-of-the-box compared to Porter stemming. RegexStemming can be adapted to any language with appropriate regular expressions."
      ],
      "metadata": {
        "id": "-w12BRCUxSKg"
      }
    },
    {
      "cell_type": "code",
      "source": [],
      "metadata": {
        "id": "MrMugmZBw5vk"
      },
      "execution_count": null,
      "outputs": []
    }
  ]
}