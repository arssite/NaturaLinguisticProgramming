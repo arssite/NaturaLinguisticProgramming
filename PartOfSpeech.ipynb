{
  "nbformat": 4,
  "nbformat_minor": 0,
  "metadata": {
    "colab": {
      "provenance": [],
      "authorship_tag": "ABX9TyPwD8L4cKxSQ9rPyLRqwAxT",
      "include_colab_link": true
    },
    "kernelspec": {
      "name": "python3",
      "display_name": "Python 3"
    },
    "language_info": {
      "name": "python"
    }
  },
  "cells": [
    {
      "cell_type": "markdown",
      "metadata": {
        "id": "view-in-github",
        "colab_type": "text"
      },
      "source": [
        "<a href=\"https://colab.research.google.com/github/arssite/NaturaLinguisticProgramming/blob/main/PartOfSpeech.ipynb\" target=\"_parent\"><img src=\"https://colab.research.google.com/assets/colab-badge.svg\" alt=\"Open In Colab\"/></a>"
      ]
    },
    {
      "cell_type": "code",
      "source": [
        "import nltk\n",
        "nltk.download('averaged_perceptron_tagger')"
      ],
      "metadata": {
        "colab": {
          "base_uri": "https://localhost:8080/"
        },
        "id": "Ve6qxQeLDPSF",
        "outputId": "7608ef5c-b9ee-43fc-861b-902891a841e9"
      },
      "execution_count": 5,
      "outputs": [
        {
          "output_type": "stream",
          "name": "stderr",
          "text": [
            "[nltk_data] Downloading package averaged_perceptron_tagger to\n",
            "[nltk_data]     /root/nltk_data...\n",
            "[nltk_data]   Unzipping taggers/averaged_perceptron_tagger.zip.\n"
          ]
        },
        {
          "output_type": "execute_result",
          "data": {
            "text/plain": [
              "True"
            ]
          },
          "metadata": {},
          "execution_count": 5
        }
      ]
    },
    {
      "cell_type": "code",
      "source": [
        "print(nltk.pos_tag([\"anmol\",\"greater noida\",\"student\"]))"
      ],
      "metadata": {
        "colab": {
          "base_uri": "https://localhost:8080/"
        },
        "id": "d2paepdFCz-1",
        "outputId": "ab5bbb57-98a4-43b0-ccbf-93151dd1b99d"
      },
      "execution_count": 6,
      "outputs": [
        {
          "output_type": "stream",
          "name": "stdout",
          "text": [
            "[('anmol', 'NN'), ('greater noida', 'NN'), ('student', 'NN')]\n"
          ]
        }
      ]
    },
    {
      "cell_type": "code",
      "source": [
        "print(nltk.pos_tag(\"My Name is Anmol, I am from Greater Noida. I am a student pursuing Bacheors.\".split()))"
      ],
      "metadata": {
        "colab": {
          "base_uri": "https://localhost:8080/"
        },
        "id": "tZSFzMOCDENH",
        "outputId": "37c80dfc-c9e1-40a9-b3cc-36d082000d23"
      },
      "execution_count": 7,
      "outputs": [
        {
          "output_type": "stream",
          "name": "stdout",
          "text": [
            "[('My', 'PRP$'), ('Name', 'NN'), ('is', 'VBZ'), ('Anmol,', 'NNP'), ('I', 'PRP'), ('am', 'VBP'), ('from', 'IN'), ('Greater', 'NNP'), ('Noida.', 'NNP'), ('I', 'PRP'), ('am', 'VBP'), ('a', 'DT'), ('student', 'NN'), ('pursuing', 'VBG'), ('Bacheors.', 'NNP')]\n"
          ]
        }
      ]
    },
    {
      "cell_type": "code",
      "source": [],
      "metadata": {
        "id": "RhiIQTwEDq6C"
      },
      "execution_count": null,
      "outputs": []
    }
  ]
}