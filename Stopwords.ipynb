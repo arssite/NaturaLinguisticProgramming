{
  "nbformat": 4,
  "nbformat_minor": 0,
  "metadata": {
    "colab": {
      "provenance": [],
      "authorship_tag": "ABX9TyO66p/V5fWvcE6HEarKGl81",
      "include_colab_link": true
    },
    "kernelspec": {
      "name": "python3",
      "display_name": "Python 3"
    },
    "language_info": {
      "name": "python"
    }
  },
  "cells": [
    {
      "cell_type": "markdown",
      "metadata": {
        "id": "view-in-github",
        "colab_type": "text"
      },
      "source": [
        "<a href=\"https://colab.research.google.com/github/arssite/NaturaLinguisticProgramming/blob/main/Stopwords.ipynb\" target=\"_parent\"><img src=\"https://colab.research.google.com/assets/colab-badge.svg\" alt=\"Open In Colab\"/></a>"
      ]
    },
    {
      "cell_type": "code",
      "execution_count": 37,
      "metadata": {
        "id": "jSioUiaZAo_O"
      },
      "outputs": [],
      "source": [
        "paragraph = \"\"\"Natural Language Processing (NLP) is a rapidly advancing field at the intersection of computer science, artificial intelligence, and linguistics, focusing on the interaction between computers and human languages. The main objective of NLP is to enable machines to understand, interpret, and generate human language in a way that is both meaningful and useful. This complex challenge involves several sub-tasks, including speech recognition, natural language understanding, and natural language generation.\n",
        "\n",
        "One of the foundational aspects of NLP is text preprocessing, which involves cleaning and preparing text data for analysis. This step typically includes tasks such as tokenization, where text is broken down into individual words or phrases; stemming and lemmatization, which reduce words to their base or root form; and the removal of stop words, which are common words like \"and\", \"the\", and \"in\" that usually do not carry significant meaning. These preprocessing steps are crucial for reducing noise and ensuring that the text data is in a suitable format for subsequent analysis.\n",
        "\n",
        "Another critical area in NLP is syntactic and semantic analysis. Syntactic analysis, or parsing, involves examining the grammatical structure of sentences. This helps in understanding how words are related to each other and the roles they play in a sentence. Semantic analysis, on the other hand, focuses on the meaning of the words and how they combine to form meaningful sentences. Techniques such as named entity recognition (NER), which identifies and classifies key elements in text into predefined categories like names of people, organizations, and locations, are part of this process.\n",
        "\n",
        "Machine learning, particularly deep learning, has revolutionized NLP in recent years. Models like Word2Vec and GloVe have enabled the creation of dense vector representations of words, known as word embeddings, which capture semantic relationships between words. These embeddings have improved the performance of various NLP tasks by allowing algorithms to understand context and similarity in a more nuanced way. More recently, transformer-based models such as BERT (Bidirectional Encoder Representations from Transformers) and GPT (Generative Pre-trained Transformer) have pushed the boundaries even further. These models, trained on vast amounts of text data, can perform a wide range of NLP tasks with remarkable accuracy. They utilize self-attention mechanisms to weigh the importance of different words in a sentence, enabling them to grasp context and nuances more effectively.\n",
        "\n",
        "Applications of NLP are vast and varied, ranging from practical implementations like chatbots and virtual assistants to more sophisticated uses in sentiment analysis, machine translation, and text summarization. For instance, in customer service, chatbots powered by NLP can handle a large volume of queries, providing quick and accurate responses. In social media analysis, sentiment analysis tools can gauge public opinion by analyzing text data from platforms like Twitter and Facebook. Machine translation systems like Google Translate use NLP to break down language barriers by providing accurate translations between numerous languages.\n",
        "\n",
        "Despite the significant advancements, NLP still faces several challenges. Language is inherently complex and ambiguous, with context, tone, and cultural nuances playing a significant role in communication. Additionally, models often require large datasets and significant computational resources to train effectively. Addressing these challenges requires ongoing research and innovation.\n",
        "\n",
        "In summary, NLP is a dynamic and evolving field that seeks to bridge the gap between human language and computer understanding. Through advancements in machine learning and deep learning, it continues to make strides in enabling machines to process and generate human language with increasing sophistication and accuracy, opening up new possibilities and applications across various domains.\"\"\"\n"
      ]
    },
    {
      "cell_type": "code",
      "source": [
        "from nltk.tokenize import sent_tokenize\n",
        "from nltk.corpus import stopwords\n",
        "from nltk.stem import PorterStemmer"
      ],
      "metadata": {
        "id": "zUrYJh-dBjtF"
      },
      "execution_count": 1,
      "outputs": []
    },
    {
      "cell_type": "code",
      "source": [
        "import nltk\n",
        "nltk.download('punkt')\n",
        "nltk.download('stopwords')"
      ],
      "metadata": {
        "colab": {
          "base_uri": "https://localhost:8080/"
        },
        "id": "CVvTbwVypUCE",
        "outputId": "feedd9e0-6896-4ddd-c764-7561cb8eb921"
      },
      "execution_count": 12,
      "outputs": [
        {
          "output_type": "stream",
          "name": "stderr",
          "text": [
            "[nltk_data] Downloading package punkt to /root/nltk_data...\n",
            "[nltk_data]   Package punkt is already up-to-date!\n",
            "[nltk_data] Downloading package stopwords to /root/nltk_data...\n",
            "[nltk_data]   Unzipping corpora/stopwords.zip.\n"
          ]
        },
        {
          "output_type": "execute_result",
          "data": {
            "text/plain": [
              "True"
            ]
          },
          "metadata": {},
          "execution_count": 12
        }
      ]
    },
    {
      "cell_type": "code",
      "source": [
        "stemer=PorterStemmer()"
      ],
      "metadata": {
        "id": "V7-LKqwAo4cQ"
      },
      "execution_count": 2,
      "outputs": []
    },
    {
      "cell_type": "code",
      "source": [
        "sen=sent_tokenize(paragraph)\n",
        "sen"
      ],
      "metadata": {
        "colab": {
          "base_uri": "https://localhost:8080/"
        },
        "id": "dRLEP8cjo-9O",
        "outputId": "bdd2f81c-9c7d-46b0-da8f-2197b2017eb2"
      },
      "execution_count": 39,
      "outputs": [
        {
          "output_type": "execute_result",
          "data": {
            "text/plain": [
              "['Natural Language Processing (NLP) is a rapidly advancing field at the intersection of computer science, artificial intelligence, and linguistics, focusing on the interaction between computers and human languages.',\n",
              " 'The main objective of NLP is to enable machines to understand, interpret, and generate human language in a way that is both meaningful and useful.',\n",
              " 'This complex challenge involves several sub-tasks, including speech recognition, natural language understanding, and natural language generation.',\n",
              " 'One of the foundational aspects of NLP is text preprocessing, which involves cleaning and preparing text data for analysis.',\n",
              " 'This step typically includes tasks such as tokenization, where text is broken down into individual words or phrases; stemming and lemmatization, which reduce words to their base or root form; and the removal of stop words, which are common words like \"and\", \"the\", and \"in\" that usually do not carry significant meaning.',\n",
              " 'These preprocessing steps are crucial for reducing noise and ensuring that the text data is in a suitable format for subsequent analysis.',\n",
              " 'Another critical area in NLP is syntactic and semantic analysis.',\n",
              " 'Syntactic analysis, or parsing, involves examining the grammatical structure of sentences.',\n",
              " 'This helps in understanding how words are related to each other and the roles they play in a sentence.',\n",
              " 'Semantic analysis, on the other hand, focuses on the meaning of the words and how they combine to form meaningful sentences.',\n",
              " 'Techniques such as named entity recognition (NER), which identifies and classifies key elements in text into predefined categories like names of people, organizations, and locations, are part of this process.',\n",
              " 'Machine learning, particularly deep learning, has revolutionized NLP in recent years.',\n",
              " 'Models like Word2Vec and GloVe have enabled the creation of dense vector representations of words, known as word embeddings, which capture semantic relationships between words.',\n",
              " 'These embeddings have improved the performance of various NLP tasks by allowing algorithms to understand context and similarity in a more nuanced way.',\n",
              " 'More recently, transformer-based models such as BERT (Bidirectional Encoder Representations from Transformers) and GPT (Generative Pre-trained Transformer) have pushed the boundaries even further.',\n",
              " 'These models, trained on vast amounts of text data, can perform a wide range of NLP tasks with remarkable accuracy.',\n",
              " 'They utilize self-attention mechanisms to weigh the importance of different words in a sentence, enabling them to grasp context and nuances more effectively.',\n",
              " 'Applications of NLP are vast and varied, ranging from practical implementations like chatbots and virtual assistants to more sophisticated uses in sentiment analysis, machine translation, and text summarization.',\n",
              " 'For instance, in customer service, chatbots powered by NLP can handle a large volume of queries, providing quick and accurate responses.',\n",
              " 'In social media analysis, sentiment analysis tools can gauge public opinion by analyzing text data from platforms like Twitter and Facebook.',\n",
              " 'Machine translation systems like Google Translate use NLP to break down language barriers by providing accurate translations between numerous languages.',\n",
              " 'Despite the significant advancements, NLP still faces several challenges.',\n",
              " 'Language is inherently complex and ambiguous, with context, tone, and cultural nuances playing a significant role in communication.',\n",
              " 'Additionally, models often require large datasets and significant computational resources to train effectively.',\n",
              " 'Addressing these challenges requires ongoing research and innovation.',\n",
              " 'In summary, NLP is a dynamic and evolving field that seeks to bridge the gap between human language and computer understanding.',\n",
              " 'Through advancements in machine learning and deep learning, it continues to make strides in enabling machines to process and generate human language with increasing sophistication and accuracy, opening up new possibilities and applications across various domains.']"
            ]
          },
          "metadata": {},
          "execution_count": 39
        }
      ]
    },
    {
      "cell_type": "code",
      "source": [
        "len(sen)"
      ],
      "metadata": {
        "colab": {
          "base_uri": "https://localhost:8080/"
        },
        "id": "0OWNOtvkpDcu",
        "outputId": "c2ca6e7d-40c3-4d49-e2ab-84d799715714"
      },
      "execution_count": 10,
      "outputs": [
        {
          "output_type": "execute_result",
          "data": {
            "text/plain": [
              "27"
            ]
          },
          "metadata": {},
          "execution_count": 10
        }
      ]
    },
    {
      "cell_type": "code",
      "source": [
        "type(sen)"
      ],
      "metadata": {
        "colab": {
          "base_uri": "https://localhost:8080/"
        },
        "id": "4Vp2e1F3pdf6",
        "outputId": "391524f6-155a-48e1-898f-0cc9f30378e8"
      },
      "execution_count": 11,
      "outputs": [
        {
          "output_type": "execute_result",
          "data": {
            "text/plain": [
              "list"
            ]
          },
          "metadata": {},
          "execution_count": 11
        }
      ]
    },
    {
      "cell_type": "code",
      "source": [
        "stopwords.words('english')"
      ],
      "metadata": {
        "colab": {
          "base_uri": "https://localhost:8080/"
        },
        "id": "2QMdxfs_pfFb",
        "outputId": "bb46a0da-adcd-4175-edb3-e3ab546ef456"
      },
      "execution_count": 13,
      "outputs": [
        {
          "output_type": "execute_result",
          "data": {
            "text/plain": [
              "['i',\n",
              " 'me',\n",
              " 'my',\n",
              " 'myself',\n",
              " 'we',\n",
              " 'our',\n",
              " 'ours',\n",
              " 'ourselves',\n",
              " 'you',\n",
              " \"you're\",\n",
              " \"you've\",\n",
              " \"you'll\",\n",
              " \"you'd\",\n",
              " 'your',\n",
              " 'yours',\n",
              " 'yourself',\n",
              " 'yourselves',\n",
              " 'he',\n",
              " 'him',\n",
              " 'his',\n",
              " 'himself',\n",
              " 'she',\n",
              " \"she's\",\n",
              " 'her',\n",
              " 'hers',\n",
              " 'herself',\n",
              " 'it',\n",
              " \"it's\",\n",
              " 'its',\n",
              " 'itself',\n",
              " 'they',\n",
              " 'them',\n",
              " 'their',\n",
              " 'theirs',\n",
              " 'themselves',\n",
              " 'what',\n",
              " 'which',\n",
              " 'who',\n",
              " 'whom',\n",
              " 'this',\n",
              " 'that',\n",
              " \"that'll\",\n",
              " 'these',\n",
              " 'those',\n",
              " 'am',\n",
              " 'is',\n",
              " 'are',\n",
              " 'was',\n",
              " 'were',\n",
              " 'be',\n",
              " 'been',\n",
              " 'being',\n",
              " 'have',\n",
              " 'has',\n",
              " 'had',\n",
              " 'having',\n",
              " 'do',\n",
              " 'does',\n",
              " 'did',\n",
              " 'doing',\n",
              " 'a',\n",
              " 'an',\n",
              " 'the',\n",
              " 'and',\n",
              " 'but',\n",
              " 'if',\n",
              " 'or',\n",
              " 'because',\n",
              " 'as',\n",
              " 'until',\n",
              " 'while',\n",
              " 'of',\n",
              " 'at',\n",
              " 'by',\n",
              " 'for',\n",
              " 'with',\n",
              " 'about',\n",
              " 'against',\n",
              " 'between',\n",
              " 'into',\n",
              " 'through',\n",
              " 'during',\n",
              " 'before',\n",
              " 'after',\n",
              " 'above',\n",
              " 'below',\n",
              " 'to',\n",
              " 'from',\n",
              " 'up',\n",
              " 'down',\n",
              " 'in',\n",
              " 'out',\n",
              " 'on',\n",
              " 'off',\n",
              " 'over',\n",
              " 'under',\n",
              " 'again',\n",
              " 'further',\n",
              " 'then',\n",
              " 'once',\n",
              " 'here',\n",
              " 'there',\n",
              " 'when',\n",
              " 'where',\n",
              " 'why',\n",
              " 'how',\n",
              " 'all',\n",
              " 'any',\n",
              " 'both',\n",
              " 'each',\n",
              " 'few',\n",
              " 'more',\n",
              " 'most',\n",
              " 'other',\n",
              " 'some',\n",
              " 'such',\n",
              " 'no',\n",
              " 'nor',\n",
              " 'not',\n",
              " 'only',\n",
              " 'own',\n",
              " 'same',\n",
              " 'so',\n",
              " 'than',\n",
              " 'too',\n",
              " 'very',\n",
              " 's',\n",
              " 't',\n",
              " 'can',\n",
              " 'will',\n",
              " 'just',\n",
              " 'don',\n",
              " \"don't\",\n",
              " 'should',\n",
              " \"should've\",\n",
              " 'now',\n",
              " 'd',\n",
              " 'll',\n",
              " 'm',\n",
              " 'o',\n",
              " 're',\n",
              " 've',\n",
              " 'y',\n",
              " 'ain',\n",
              " 'aren',\n",
              " \"aren't\",\n",
              " 'couldn',\n",
              " \"couldn't\",\n",
              " 'didn',\n",
              " \"didn't\",\n",
              " 'doesn',\n",
              " \"doesn't\",\n",
              " 'hadn',\n",
              " \"hadn't\",\n",
              " 'hasn',\n",
              " \"hasn't\",\n",
              " 'haven',\n",
              " \"haven't\",\n",
              " 'isn',\n",
              " \"isn't\",\n",
              " 'ma',\n",
              " 'mightn',\n",
              " \"mightn't\",\n",
              " 'mustn',\n",
              " \"mustn't\",\n",
              " 'needn',\n",
              " \"needn't\",\n",
              " 'shan',\n",
              " \"shan't\",\n",
              " 'shouldn',\n",
              " \"shouldn't\",\n",
              " 'wasn',\n",
              " \"wasn't\",\n",
              " 'weren',\n",
              " \"weren't\",\n",
              " 'won',\n",
              " \"won't\",\n",
              " 'wouldn',\n",
              " \"wouldn't\"]"
            ]
          },
          "metadata": {},
          "execution_count": 13
        }
      ]
    },
    {
      "cell_type": "code",
      "source": [
        "#token from sentence to word\n",
        "#stemming\n",
        "#check stopwords\n",
        "#list to words into sentences\n",
        "for i in range(len(sen)):\n",
        "    words=nltk.word_tokenize(sen[i])\n",
        "    words=[stemer.stem(word) for word in words if word not in stopwords.words('english')]\n",
        "    sen[i]=' '.join(words)"
      ],
      "metadata": {
        "id": "uh3cnm1YtoTH"
      },
      "execution_count": 43,
      "outputs": []
    },
    {
      "cell_type": "code",
      "source": [
        "print(sen)\n",
        "len(sen)"
      ],
      "metadata": {
        "colab": {
          "base_uri": "https://localhost:8080/"
        },
        "id": "5a0N4JcGyzg3",
        "outputId": "0766dc21-1fc5-4dc8-9c48-b128995d5d55"
      },
      "execution_count": 44,
      "outputs": [
        {
          "output_type": "stream",
          "name": "stdout",
          "text": [
            "['natur languag process ( nlp ) rapid advanc field intersect comput scienc , artifici intellig , linguist , focu interact comput human languag .', 'main object nlp enabl machin understand , interpret , gener human languag way mean use .', 'thi complex challeng involv sever sub-task , includ speech recognit , natur languag understand , natur languag gener .', 'one foundat aspect nlp text preprocess , involv clean prepar text data analysi .', 'thi step typic includ task token , text broken individu word phrase ; stem lemmat , reduc word base root form ; remov stop word , common word like `` `` , `` `` , `` `` usual carri signif mean .', 'preprocess step crucial reduc noi ensur text data suitabl format subsequ analysi .', 'anoth critic area nlp syntact semant analysi .', 'syntact analysi , par , involv examin grammat structur sentenc .', 'thi help understand word relat role play sentenc .', 'semant analysi , hand , focu mean word combin form mean sentenc .', 'techniqu name entiti recognit ( ner ) , identifi classifi key element text predefin categori like name peopl , organ , locat , part process .', 'machin learn , particular deep learn , revolut nlp recent year .', 'model like word2vec glove enabl creation den vector repr word , known word emb , captur semant relationship word .', 'emb improv perform variou nlp task allow algorithm understand context similar nuanc way .', 'recent , transformer-ba model bert ( bidirect encod repr transform ) gpt ( gener pre-train transform ) push boundari even .', 'model , train vast amount text data , perform wide rang nlp task remark accuraci .', 'util self-att mechan weigh import differ word sentenc , enabl grasp context nuanc effect .', 'applic nlp vast vari , rang practic implement like chatbot virtual assist sophist use sentiment analysi , machin translat , text summar .', 'instanc , custom servic , chatbot power nlp handl larg volum queri , provid quick accur respon .', 'social medium analysi , sentiment analysi tool gaug public opinion analyz text data platform like twitter facebook .', 'machin translat system like googl translat use nlp break languag barrier provid accur translat numer languag .', 'despit signif advanc , nlp still face sever challeng .', 'languag inher complex ambigu , context , tone , cultur nuanc play signif role commun .', 'addit , model often requir larg dataset signif comput resourc train effect .', 'address challeng requir ongo research innov .', 'summari , nlp dynam evolv field seek bridg gap human languag comput understand .', 'advanc machin learn deep learn , continu make stride enabl machin process gener human languag increa sophist accuraci , open new possibl applic across variou domain .']\n"
          ]
        },
        {
          "output_type": "execute_result",
          "data": {
            "text/plain": [
              "27"
            ]
          },
          "metadata": {},
          "execution_count": 44
        }
      ]
    },
    {
      "cell_type": "code",
      "source": [
        "#withSnowballStemmer\n",
        "from nltk.stem.snowball import SnowballStemmer\n",
        "snowball=SnowballStemmer('english')"
      ],
      "metadata": {
        "id": "Gqm_GxjLzdKT"
      },
      "execution_count": 26,
      "outputs": []
    },
    {
      "cell_type": "code",
      "source": [
        "#token from sentence to word\n",
        "#SnowBallstemming\n",
        "#check stopwords\n",
        "#list to words into sentences\n",
        "for i in range(len(sen)):\n",
        "    words=nltk.word_tokenize(sen[i])\n",
        "    words=[snowball.stem(word) for word in words if word not in stopwords.words('english')]\n",
        "    sen[i]=' '.join(words)"
      ],
      "metadata": {
        "id": "7TkyQyu9z20U"
      },
      "execution_count": 41,
      "outputs": []
    },
    {
      "cell_type": "code",
      "source": [
        "print(sen)\n",
        "len(sen)"
      ],
      "metadata": {
        "colab": {
          "base_uri": "https://localhost:8080/"
        },
        "id": "9-A20oZg2EVI",
        "outputId": "b88cda9c-da0d-4607-d45f-994800a05b82"
      },
      "execution_count": 30,
      "outputs": [
        {
          "output_type": "stream",
          "name": "stdout",
          "text": [
            "['natur languag process ( nlp ) rapid advanc field intersect comput scienc , artifici intellig , linguist , focu interact comput human languag .', 'main object nlp enabl machin understand , interpret , gener human languag way mean use .', 'thi complex challeng involv sever sub-task , includ speech recognit , natur languag understand , natur languag gener .', 'one foundat aspect nlp text preprocess , involv clean prepar text data analysi .', 'thi step typic includ task token , text broken individu word phrase ; stem lemmat , reduc word base root form ; remov stop word , common word like `` `` , `` `` , `` `` usual carri signif mean .', 'preprocess step crucial reduc noi ensur text data suitabl format subsequ analysi .', 'anoth critic area nlp syntact semant analysi .', 'syntact analysi , par , involv examin grammat structur sentenc .', 'thi help understand word relat role play sentenc .', 'semant analysi , hand , focu mean word combin form mean sentenc .', 'techniqu name entiti recognit ( ner ) , identifi classifi key element text predefin categori like name peopl , organ , locat , part process .', 'machin learn , particular deep learn , revolut nlp recent year .', 'model like word2vec glove enabl creation den vector repr word , known word emb , captur semant relationship word .', 'emb improv perform variou nlp task allow algorithm understand context similar nuanc way .', 'recent , transformer-ba model bert ( bidirect encod repr transform ) gpt ( gener pre-train transform ) push boundari even .', 'model , train vast amount text data , perform wide rang nlp task remark accuraci .', 'util self-att mechan weigh import differ word sentenc , enabl grasp context nuanc effect .', 'applic nlp vast vari , rang practic implement like chatbot virtual assist sophist use sentiment analysi , machin translat , text summar .', 'instanc , custom servic , chatbot power nlp handl larg volum queri , provid quick accur respon .', 'social media analysi , sentiment analysi tool gaug public opinion analyz text data platform like twitter facebook .', 'machin translat system like googl translat use nlp break languag barrier provid accur translat numer languag .', 'despit signif advanc , nlp still face sever challeng .', 'languag inher complex ambigu , context , tone , cultur nuanc play signif role commun .', 'addit , model often requir larg dataset signif comput resourc train effect .', 'address challeng requir ongo research innov .', 'summari , nlp dynam evolv field seek bridg gap human languag comput understand .', 'advanc machin learn deep learn , continu make stride enabl machin process gener human languag increa sophist accuraci , open new possibl applic across variou domain .']\n"
          ]
        },
        {
          "output_type": "execute_result",
          "data": {
            "text/plain": [
              "27"
            ]
          },
          "metadata": {},
          "execution_count": 30
        }
      ]
    },
    {
      "cell_type": "code",
      "source": [
        "from nltk.stem import WordNetLemmatizer\n",
        "lem=WordNetLemmatizer()\n",
        "nltk.download('wordnet')"
      ],
      "metadata": {
        "colab": {
          "base_uri": "https://localhost:8080/"
        },
        "id": "ZsAa0gc72ERl",
        "outputId": "1aeb94d8-f45c-47cf-e5f8-8bc6afcfad3f"
      },
      "execution_count": 34,
      "outputs": [
        {
          "output_type": "stream",
          "name": "stderr",
          "text": [
            "[nltk_data] Downloading package wordnet to /root/nltk_data...\n"
          ]
        },
        {
          "output_type": "execute_result",
          "data": {
            "text/plain": [
              "True"
            ]
          },
          "metadata": {},
          "execution_count": 34
        }
      ]
    },
    {
      "cell_type": "code",
      "source": [
        "#token from sentence to word\n",
        "#Lemmatizer\n",
        "#check stopwords\n",
        "#list to words into sentences\n",
        "for i in range(len(sen)):\n",
        "    words=nltk.word_tokenize(sen[i])\n",
        "    words=[lem.lemmatize(word,pos='v') for word in words if word not in stopwords.words('english')]\n",
        "    sen[i]=' '.join(words)"
      ],
      "metadata": {
        "id": "gOXlahYi19Fa"
      },
      "execution_count": 45,
      "outputs": []
    },
    {
      "cell_type": "code",
      "source": [
        "sen"
      ],
      "metadata": {
        "colab": {
          "base_uri": "https://localhost:8080/"
        },
        "id": "NhUNpMYq6uuJ",
        "outputId": "7557d0a4-5516-47db-8c46-873a78015b13"
      },
      "execution_count": 46,
      "outputs": [
        {
          "output_type": "execute_result",
          "data": {
            "text/plain": [
              "['natur languag process ( nlp ) rapid advanc field intersect comput scienc , artifici intellig , linguist , focu interact comput human languag .',\n",
              " 'main object nlp enabl machin understand , interpret , gener human languag way mean use .',\n",
              " 'thi complex challeng involv sever sub-task , includ speech recognit , natur languag understand , natur languag gener .',\n",
              " 'one foundat aspect nlp text preprocess , involv clean prepar text data analysi .',\n",
              " 'thi step typic includ task token , text break individu word phrase ; stem lemmat , reduc word base root form ; remov stop word , common word like `` `` , `` `` , `` `` usual carri signif mean .',\n",
              " 'preprocess step crucial reduc noi ensur text data suitabl format subsequ analysi .',\n",
              " 'anoth critic area nlp syntact semant analysi .',\n",
              " 'syntact analysi , par , involv examin grammat structur sentenc .',\n",
              " 'thi help understand word relat role play sentenc .',\n",
              " 'semant analysi , hand , focu mean word combin form mean sentenc .',\n",
              " 'techniqu name entiti recognit ( ner ) , identifi classifi key element text predefin categori like name peopl , organ , locat , part process .',\n",
              " 'machin learn , particular deep learn , revolut nlp recent year .',\n",
              " 'model like word2vec glove enabl creation den vector repr word , know word emb , captur semant relationship word .',\n",
              " 'emb improv perform variou nlp task allow algorithm understand context similar nuanc way .',\n",
              " 'recent , transformer-ba model bert ( bidirect encod repr transform ) gpt ( gener pre-train transform ) push boundari even .',\n",
              " 'model , train vast amount text data , perform wide ring nlp task remark accuraci .',\n",
              " 'util self-att mechan weigh import differ word sentenc , enabl grasp context nuanc effect .',\n",
              " 'applic nlp vast vari , ring practic implement like chatbot virtual assist sophist use sentiment analysi , machin translat , text summar .',\n",
              " 'instanc , custom servic , chatbot power nlp handl larg volum queri , provid quick accur respon .',\n",
              " 'social medium analysi , sentiment analysi tool gaug public opinion analyz text data platform like twitter facebook .',\n",
              " 'machin translat system like googl translat use nlp break languag barrier provid accur translat numer languag .',\n",
              " 'despit signif advanc , nlp still face sever challeng .',\n",
              " 'languag inher complex ambigu , context , tone , cultur nuanc play signif role commun .',\n",
              " 'addit , model often requir larg dataset signif comput resourc train effect .',\n",
              " 'address challeng requir ongo research innov .',\n",
              " 'summari , nlp dynam evolv field seek bridg gap human languag comput understand .',\n",
              " 'advanc machin learn deep learn , continu make stride enabl machin process gener human languag increa sophist accuraci , open new possibl applic across variou domain .']"
            ]
          },
          "metadata": {},
          "execution_count": 46
        }
      ]
    },
    {
      "cell_type": "code",
      "source": [],
      "metadata": {
        "id": "lnW0_XQa7Brp"
      },
      "execution_count": null,
      "outputs": []
    }
  ]
}