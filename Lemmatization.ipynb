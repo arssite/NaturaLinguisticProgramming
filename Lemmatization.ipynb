{
  "nbformat": 4,
  "nbformat_minor": 0,
  "metadata": {
    "colab": {
      "provenance": [],
      "authorship_tag": "ABX9TyNZQwHiBq9VQ3W7V1B2DIn3",
      "include_colab_link": true
    },
    "kernelspec": {
      "name": "python3",
      "display_name": "Python 3"
    },
    "language_info": {
      "name": "python"
    }
  },
  "cells": [
    {
      "cell_type": "markdown",
      "metadata": {
        "id": "view-in-github",
        "colab_type": "text"
      },
      "source": [
        "<a href=\"https://colab.research.google.com/github/arssite/NaturaLinguisticProgramming/blob/main/Lemmatization.ipynb\" target=\"_parent\"><img src=\"https://colab.research.google.com/assets/colab-badge.svg\" alt=\"Open In Colab\"/></a>"
      ]
    },
    {
      "cell_type": "code",
      "source": [
        " import nltk\n",
        " nltk.download('wordnet')"
      ],
      "metadata": {
        "colab": {
          "base_uri": "https://localhost:8080/"
        },
        "id": "XvPkBqW96JSw",
        "outputId": "e8301365-8906-4a66-85a8-6c419722d471"
      },
      "execution_count": 5,
      "outputs": [
        {
          "output_type": "stream",
          "name": "stderr",
          "text": [
            "[nltk_data] Downloading package wordnet to /root/nltk_data...\n"
          ]
        },
        {
          "output_type": "execute_result",
          "data": {
            "text/plain": [
              "True"
            ]
          },
          "metadata": {},
          "execution_count": 5
        }
      ]
    },
    {
      "cell_type": "code",
      "execution_count": 6,
      "metadata": {
        "id": "BHJlBdOx41pP"
      },
      "outputs": [],
      "source": [
        "from nltk.stem import WordNetLemmatizer"
      ]
    },
    {
      "cell_type": "code",
      "source": [
        "words = [\"fishing\", \"fished\", \"fish\", \"fishes\", \"flea\", \"fleas\", \"flight\", \"flights\", \"flinch\", \"flinched\", \"flinches\", \"fling\", \"flings\", \"flip\", \"flipped\", \"flips\", \"flirt\", \"flirted\", \"flirts\", \"flood\", \"flooded\", \"floods\", \"floor\", \"floors\", \"flop\", \"flopped\", \"flops\", \"flu\", \"stubbornness\", \"strength\", \"stubborn\", \"strong\", \"student\", \"students\", \"studio\", \"studios\", \"study\", \"studied\", \"studies\", \"stuff\", \"stuffed\", \"stuffs\", \"stupid\", \"stupidity\", \"style\", \"styles\", \"stylish\", \"sub\", \"subs\", \"subway\", \"subways\", \"such\", \"suck\", \"sucked\", \"sucks\", \"sudden\", \"suddenly\", \"sue\", \"sued\", \"sues\", \"suffer\", \"suffered\", \"suffers\", \"sugar\", \"suggest\", \"suggested\", \"suggests\", \"suicide\", \"suit\", \"suited\", \"suits\", \"summer\", \"sun\", \"sunday\", \"sundays\", \"sunlight\", \"sunny\", \"super\", \"superb\", \"superbly\", \"superior\", \"supervisor\", \"supervisors\", \"supper\", \"supple\", \"supplier\", \"suppliers\", \"supply\", \"supplied\", \"supplies\", \"support\", \"supported\", \"supporter\", \"supporters\", \"supports\", \"suppose\", \"supposed\", \"sure\", \"surely\", \"surface\", \"surfaces\", \"surf\", \"surfed\", \"surfer\", \"surfers\", \"surfing\", \"surfs\", \"surgery\", \"surgeries\", \"surprise\", \"surprised\", \"surprises\", \"surprising\", \"surprisingly\", \"surround\", \"surrounded\", \"surrounds\", \"survival\", \"survive\", \"survived\", \"survives\", \"survivor\", \"survivors\", \"suspect\", \"suspected\", \"suspects\", \"suspend\", \"suspended\", \"suspends\", \"suspense\", \"suspicious\", \"swallow\", \"swallowed\", \"swallows\", \"swamp\", \"swamps\", \"swan\", \"swans\", \"swear\", \"swearing\", \"swears\", \"sweat\", \"sweater\", \"sweaters\", \"sweating\", \"sweats\", \"sweep\", \"sweeping\", \"sweeps\", \"sweet\", \"sweeten\", \"sweetened\", \"sweetens\", \"sweeter\", \"sweetest\", \"sweetheart\", \"sweethearts\", \"swell\", \"swelled\", \"swells\", \"swept\", \"swift\", \"swim\", \"swimming\", \"swims\", \"swing\", \"swinging\", \"swings\", \"swipe\", \"swiped\", \"swipes\", \"swirl\", \"swirled\", \"swirls\", \"switch\", \"switched\", \"switches\", \"swivel\", \"swiveled\", \"swivels\", \"swollen\", \"swore\", \"sword\", \"swords\", \"swore\", \"sworn\", \"symbol\", \"symbols\", \"sympathy\", \"symptom\", \"symptoms\"]"
      ],
      "metadata": {
        "id": "KF-TgMCq5_l2"
      },
      "execution_count": 3,
      "outputs": []
    },
    {
      "cell_type": "code",
      "source": [
        "lemma= WordNetLemmatizer()"
      ],
      "metadata": {
        "id": "kon0GIv65qbV"
      },
      "execution_count": 2,
      "outputs": []
    },
    {
      "cell_type": "code",
      "source": [
        "lemma.lemmatize('cats')"
      ],
      "metadata": {
        "colab": {
          "base_uri": "https://localhost:8080/",
          "height": 35
        },
        "id": "rEIHyHlN5z5e",
        "outputId": "0a47bd6f-3e50-4eeb-e986-b39660736b34"
      },
      "execution_count": 9,
      "outputs": [
        {
          "output_type": "execute_result",
          "data": {
            "text/plain": [
              "'cat'"
            ],
            "application/vnd.google.colaboratory.intrinsic+json": {
              "type": "string"
            }
          },
          "metadata": {},
          "execution_count": 9
        }
      ]
    },
    {
      "cell_type": "code",
      "source": [
        ":param word: The input word to lemmatize.\n",
        ":type word: str\n",
        ":param pos: The Part Of Speech tag. Valid options are \"n\" for nouns,\n",
        "    \"v\" for verbs, \"a\" for adjectives, \"r\" for adverbs and \"s\"\n",
        "for satellite adjectives.\n",
        ":param pos: str"
      ],
      "metadata": {
        "id": "mO486yM36D9W"
      },
      "execution_count": null,
      "outputs": []
    },
    {
      "cell_type": "code",
      "source": [
        "lemma.lemmatize('watching',pos='v')"
      ],
      "metadata": {
        "colab": {
          "base_uri": "https://localhost:8080/",
          "height": 35
        },
        "id": "kBxfpl_Q6qc9",
        "outputId": "039b22d4-d5e9-46b0-efbc-52d4d78b6b33"
      },
      "execution_count": 10,
      "outputs": [
        {
          "output_type": "execute_result",
          "data": {
            "text/plain": [
              "'watch'"
            ],
            "application/vnd.google.colaboratory.intrinsic+json": {
              "type": "string"
            }
          },
          "metadata": {},
          "execution_count": 10
        }
      ]
    },
    {
      "cell_type": "code",
      "source": [
        "lemma.lemmatize('watching',pos='a')"
      ],
      "metadata": {
        "colab": {
          "base_uri": "https://localhost:8080/",
          "height": 35
        },
        "id": "0hAuBlWK62_U",
        "outputId": "33ac0750-1593-4903-abde-e27eb0f59b2b"
      },
      "execution_count": 11,
      "outputs": [
        {
          "output_type": "execute_result",
          "data": {
            "text/plain": [
              "'watching'"
            ],
            "application/vnd.google.colaboratory.intrinsic+json": {
              "type": "string"
            }
          },
          "metadata": {},
          "execution_count": 11
        }
      ]
    },
    {
      "cell_type": "code",
      "source": [
        "lemma.lemmatize('watching',pos='r')"
      ],
      "metadata": {
        "colab": {
          "base_uri": "https://localhost:8080/",
          "height": 35
        },
        "id": "OXsrJ0th66Xh",
        "outputId": "9c6432ee-e042-47ed-f118-05eae69e1f16"
      },
      "execution_count": 12,
      "outputs": [
        {
          "output_type": "execute_result",
          "data": {
            "text/plain": [
              "'watching'"
            ],
            "application/vnd.google.colaboratory.intrinsic+json": {
              "type": "string"
            }
          },
          "metadata": {},
          "execution_count": 12
        }
      ]
    },
    {
      "cell_type": "code",
      "source": [],
      "metadata": {
        "id": "2V6d_6Fc7bhn"
      },
      "execution_count": null,
      "outputs": []
    },
    {
      "cell_type": "code",
      "source": [],
      "metadata": {
        "id": "PWdVFSFf7bfz"
      },
      "execution_count": null,
      "outputs": []
    },
    {
      "cell_type": "markdown",
      "source": [
        "slow then stemming"
      ],
      "metadata": {
        "id": "S8Q_tseE8Ntl"
      }
    },
    {
      "cell_type": "code",
      "source": [
        "lemma.lemmatize('watching',pos='s')"
      ],
      "metadata": {
        "colab": {
          "base_uri": "https://localhost:8080/",
          "height": 35
        },
        "id": "eJLM-Dn-68vT",
        "outputId": "ffd4761b-1bd5-48a6-dae1-2c1a76ea99f2"
      },
      "execution_count": 13,
      "outputs": [
        {
          "output_type": "execute_result",
          "data": {
            "text/plain": [
              "'watching'"
            ],
            "application/vnd.google.colaboratory.intrinsic+json": {
              "type": "string"
            }
          },
          "metadata": {},
          "execution_count": 13
        }
      ]
    },
    {
      "cell_type": "code",
      "source": [
        "for i in words:\n",
        "  print(i+\"-----------> \"+lemma.lemmatize(i))"
      ],
      "metadata": {
        "colab": {
          "base_uri": "https://localhost:8080/"
        },
        "id": "fZ1fJS037A-V",
        "outputId": "c78e704c-dea3-4d97-b803-f5784ed59592"
      },
      "execution_count": 14,
      "outputs": [
        {
          "output_type": "stream",
          "name": "stdout",
          "text": [
            "fishing-----------> fishing\n",
            "fished-----------> fished\n",
            "fish-----------> fish\n",
            "fishes-----------> fish\n",
            "flea-----------> flea\n",
            "fleas-----------> flea\n",
            "flight-----------> flight\n",
            "flights-----------> flight\n",
            "flinch-----------> flinch\n",
            "flinched-----------> flinched\n",
            "flinches-----------> flinch\n",
            "fling-----------> fling\n",
            "flings-----------> fling\n",
            "flip-----------> flip\n",
            "flipped-----------> flipped\n",
            "flips-----------> flip\n",
            "flirt-----------> flirt\n",
            "flirted-----------> flirted\n",
            "flirts-----------> flirt\n",
            "flood-----------> flood\n",
            "flooded-----------> flooded\n",
            "floods-----------> flood\n",
            "floor-----------> floor\n",
            "floors-----------> floor\n",
            "flop-----------> flop\n",
            "flopped-----------> flopped\n",
            "flops-----------> flop\n",
            "flu-----------> flu\n",
            "stubbornness-----------> stubbornness\n",
            "strength-----------> strength\n",
            "stubborn-----------> stubborn\n",
            "strong-----------> strong\n",
            "student-----------> student\n",
            "students-----------> student\n",
            "studio-----------> studio\n",
            "studios-----------> studio\n",
            "study-----------> study\n",
            "studied-----------> studied\n",
            "studies-----------> study\n",
            "stuff-----------> stuff\n",
            "stuffed-----------> stuffed\n",
            "stuffs-----------> stuff\n",
            "stupid-----------> stupid\n",
            "stupidity-----------> stupidity\n",
            "style-----------> style\n",
            "styles-----------> style\n",
            "stylish-----------> stylish\n",
            "sub-----------> sub\n",
            "subs-----------> sub\n",
            "subway-----------> subway\n",
            "subways-----------> subway\n",
            "such-----------> such\n",
            "suck-----------> suck\n",
            "sucked-----------> sucked\n",
            "sucks-----------> suck\n",
            "sudden-----------> sudden\n",
            "suddenly-----------> suddenly\n",
            "sue-----------> sue\n",
            "sued-----------> sued\n",
            "sues-----------> sue\n",
            "suffer-----------> suffer\n",
            "suffered-----------> suffered\n",
            "suffers-----------> suffers\n",
            "sugar-----------> sugar\n",
            "suggest-----------> suggest\n",
            "suggested-----------> suggested\n",
            "suggests-----------> suggests\n",
            "suicide-----------> suicide\n",
            "suit-----------> suit\n",
            "suited-----------> suited\n",
            "suits-----------> suit\n",
            "summer-----------> summer\n",
            "sun-----------> sun\n",
            "sunday-----------> sunday\n",
            "sundays-----------> sunday\n",
            "sunlight-----------> sunlight\n",
            "sunny-----------> sunny\n",
            "super-----------> super\n",
            "superb-----------> superb\n",
            "superbly-----------> superbly\n",
            "superior-----------> superior\n",
            "supervisor-----------> supervisor\n",
            "supervisors-----------> supervisor\n",
            "supper-----------> supper\n",
            "supple-----------> supple\n",
            "supplier-----------> supplier\n",
            "suppliers-----------> supplier\n",
            "supply-----------> supply\n",
            "supplied-----------> supplied\n",
            "supplies-----------> supply\n",
            "support-----------> support\n",
            "supported-----------> supported\n",
            "supporter-----------> supporter\n",
            "supporters-----------> supporter\n",
            "supports-----------> support\n",
            "suppose-----------> suppose\n",
            "supposed-----------> supposed\n",
            "sure-----------> sure\n",
            "surely-----------> surely\n",
            "surface-----------> surface\n",
            "surfaces-----------> surface\n",
            "surf-----------> surf\n",
            "surfed-----------> surfed\n",
            "surfer-----------> surfer\n",
            "surfers-----------> surfer\n",
            "surfing-----------> surfing\n",
            "surfs-----------> surf\n",
            "surgery-----------> surgery\n",
            "surgeries-----------> surgery\n",
            "surprise-----------> surprise\n",
            "surprised-----------> surprised\n",
            "surprises-----------> surprise\n",
            "surprising-----------> surprising\n",
            "surprisingly-----------> surprisingly\n",
            "surround-----------> surround\n",
            "surrounded-----------> surrounded\n",
            "surrounds-----------> surround\n",
            "survival-----------> survival\n",
            "survive-----------> survive\n",
            "survived-----------> survived\n",
            "survives-----------> survives\n",
            "survivor-----------> survivor\n",
            "survivors-----------> survivor\n",
            "suspect-----------> suspect\n",
            "suspected-----------> suspected\n",
            "suspects-----------> suspect\n",
            "suspend-----------> suspend\n",
            "suspended-----------> suspended\n",
            "suspends-----------> suspends\n",
            "suspense-----------> suspense\n",
            "suspicious-----------> suspicious\n",
            "swallow-----------> swallow\n",
            "swallowed-----------> swallowed\n",
            "swallows-----------> swallow\n",
            "swamp-----------> swamp\n",
            "swamps-----------> swamp\n",
            "swan-----------> swan\n",
            "swans-----------> swan\n",
            "swear-----------> swear\n",
            "swearing-----------> swearing\n",
            "swears-----------> swears\n",
            "sweat-----------> sweat\n",
            "sweater-----------> sweater\n",
            "sweaters-----------> sweater\n",
            "sweating-----------> sweating\n",
            "sweats-----------> sweat\n",
            "sweep-----------> sweep\n",
            "sweeping-----------> sweeping\n",
            "sweeps-----------> sweep\n",
            "sweet-----------> sweet\n",
            "sweeten-----------> sweeten\n",
            "sweetened-----------> sweetened\n",
            "sweetens-----------> sweetens\n",
            "sweeter-----------> sweeter\n",
            "sweetest-----------> sweetest\n",
            "sweetheart-----------> sweetheart\n",
            "sweethearts-----------> sweetheart\n",
            "swell-----------> swell\n",
            "swelled-----------> swelled\n",
            "swells-----------> swell\n",
            "swept-----------> swept\n",
            "swift-----------> swift\n",
            "swim-----------> swim\n",
            "swimming-----------> swimming\n",
            "swims-----------> swim\n",
            "swing-----------> swing\n",
            "swinging-----------> swinging\n",
            "swings-----------> swing\n",
            "swipe-----------> swipe\n",
            "swiped-----------> swiped\n",
            "swipes-----------> swipe\n",
            "swirl-----------> swirl\n",
            "swirled-----------> swirled\n",
            "swirls-----------> swirl\n",
            "switch-----------> switch\n",
            "switched-----------> switched\n",
            "switches-----------> switch\n",
            "swivel-----------> swivel\n",
            "swiveled-----------> swiveled\n",
            "swivels-----------> swivel\n",
            "swollen-----------> swollen\n",
            "swore-----------> swore\n",
            "sword-----------> sword\n",
            "swords-----------> sword\n",
            "swore-----------> swore\n",
            "sworn-----------> sworn\n",
            "symbol-----------> symbol\n",
            "symbols-----------> symbol\n",
            "sympathy-----------> sympathy\n",
            "symptom-----------> symptom\n",
            "symptoms-----------> symptom\n"
          ]
        }
      ]
    },
    {
      "cell_type": "code",
      "source": [],
      "metadata": {
        "id": "OMyKT2Mb7NgG"
      },
      "execution_count": null,
      "outputs": []
    }
  ]
}